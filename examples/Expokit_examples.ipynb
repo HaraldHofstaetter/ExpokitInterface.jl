{
 "cells": [
  {
   "cell_type": "markdown",
   "metadata": {},
   "source": [
    "## Introduction"
   ]
  },
  {
   "cell_type": "markdown",
   "metadata": {},
   "source": [
    "We reconsider examples 6.2, 6.3, and 6.4 from \n",
    "\n",
    ">R.B. Sidje, [Expokit: A software package for computing matrix exponentials](http://www.maths.uq.edu.au/expokit/paper.pdf), ACM Trans. Math. Softw., 24(1):130-156, 1998. \n",
    "\n",
    "For these examples the Julia package [HarwellRutherfordBoeing.jl](https://github.com/JuliaSparse/HarwellRutherfordBoeing.jl) has to be\n",
    "installed:"
   ]
  },
  {
   "cell_type": "code",
   "execution_count": 1,
   "metadata": {
    "collapsed": false
   },
   "outputs": [
    {
     "name": "stderr",
     "output_type": "stream",
     "text": [
      "INFO: Nothing to be done\n",
      "INFO: METADATA is out-of-date — you may not have the latest version of HarwellRutherfordBoeing\n",
      "INFO: Use `Pkg.update()` to get the latest versions of your packages\n"
     ]
    }
   ],
   "source": [
    "Pkg.add(\"HarwellRutherfordBoeing\")"
   ]
  },
  {
   "cell_type": "code",
   "execution_count": 2,
   "metadata": {
    "collapsed": false
   },
   "outputs": [],
   "source": [
    "using Expokit\n",
    "using HarwellRutherfordBoeing"
   ]
  },
  {
   "cell_type": "markdown",
   "metadata": {},
   "source": [
    "## Example 6.2 \n",
    "\n",
    "Construct Hermitian matrix with the same sparsity pattern as  the one stored in `data/bcspwr10`. Both real and imaginary parts are filled using uniform random numbers within the range [-5,+5]."
   ]
  },
  {
   "cell_type": "code",
   "execution_count": 3,
   "metadata": {
    "collapsed": false
   },
   "outputs": [
    {
     "data": {
      "text/plain": [
       "5300x5300 sparse matrix with 21842 Complex{Float64} entries:\n",
       "\t[1   ,    1]  =  0.91253+0.0im\n",
       "\t[1245,    1]  =  3.66503-3.72877im\n",
       "\t[2319,    1]  =  -4.10521+1.84511im\n",
       "\t[4939,    1]  =  4.6657+2.27286im\n",
       "\t[2   ,    2]  =  1.10936+0.0im\n",
       "\t[3036,    2]  =  3.55768-3.28849im\n",
       "\t[3   ,    3]  =  -2.80165+0.0im\n",
       "\t[2085,    3]  =  2.42611+1.59611im\n",
       "\t[4   ,    4]  =  4.65558+0.0im\n",
       "\t[238 ,    4]  =  -3.88009-1.16195im\n",
       "\t⋮\n",
       "\t[1551, 5299]  =  -4.92907-4.2527im\n",
       "\t[3187, 5299]  =  4.92063-3.92145im\n",
       "\t[4246, 5299]  =  -2.39662+3.21345im\n",
       "\t[5200, 5299]  =  4.89391+1.53221im\n",
       "\t[5299, 5299]  =  -3.34148+0.0im\n",
       "\t[401 , 5300]  =  -4.24611-0.683477im\n",
       "\t[638 , 5300]  =  1.5525-4.27671im\n",
       "\t[2061, 5300]  =  -3.97319+3.29075im\n",
       "\t[4506, 5300]  =  -2.65486-4.91032im\n",
       "\t[4898, 5300]  =  1.54405+1.67126im\n",
       "\t[5300, 5300]  =  -0.60793+0.0im"
      ]
     },
     "execution_count": 3,
     "metadata": {},
     "output_type": "execute_result"
    }
   ],
   "source": [
    "A = HarwellBoeingMatrix(\"data/bcspwr10\").matrix\n",
    "I,J,V = findnz(A)\n",
    "A = sparse(I,J,V+0im)\n",
    "A.nzval = rand(length(A.nzval))*10.0-5.0 + 1im*(rand(length(A.nzval))*10.0-5.0)\n",
    "A = A+A'-spdiagm(real(diag(A)))"
   ]
  },
  {
   "cell_type": "markdown",
   "metadata": {},
   "source": [
    "Construct $v=(1,0,\\dots,0,1)^T$:"
   ]
  },
  {
   "cell_type": "code",
   "execution_count": 4,
   "metadata": {
    "collapsed": false
   },
   "outputs": [
    {
     "data": {
      "text/plain": [
       "5300-element Array{Float64,1}:\n",
       " 1.0\n",
       " 0.0\n",
       " 0.0\n",
       " 0.0\n",
       " 0.0\n",
       " 0.0\n",
       " 0.0\n",
       " 0.0\n",
       " 0.0\n",
       " 0.0\n",
       " 0.0\n",
       " 0.0\n",
       " 0.0\n",
       " ⋮  \n",
       " 0.0\n",
       " 0.0\n",
       " 0.0\n",
       " 0.0\n",
       " 0.0\n",
       " 0.0\n",
       " 0.0\n",
       " 0.0\n",
       " 0.0\n",
       " 0.0\n",
       " 0.0\n",
       " 1.0"
      ]
     },
     "execution_count": 4,
     "metadata": {},
     "output_type": "execute_result"
    }
   ],
   "source": [
    "v = zeros(A.n)\n",
    "v[1] = 1\n",
    "v[A.n] = 1\n",
    "v"
   ]
  },
  {
   "cell_type": "markdown",
   "metadata": {},
   "source": [
    "First, we use the method for general complex matrices (i.e., we don't utilze the fact that A is hermitian).\n",
    "We do the calculation twice, where only the second is timed, because for the first the function has to be compiled which takes additional time."
   ]
  },
  {
   "cell_type": "code",
   "execution_count": 5,
   "metadata": {
    "collapsed": false
   },
   "outputs": [
    {
     "name": "stdout",
     "output_type": "stream",
     "text": [
      "  0.027512 seconds (1.29 k allocations: 10.460 MB)\n",
      "  0.031685 seconds (1.14 k allocations: 10.419 MB, 15.58% gc time)\n"
     ]
    },
    {
     "data": {
      "text/plain": [
       "5300-element Array{Complex{Float64},1}:\n",
       "             1.20316e6+142.245im   \n",
       "  -1.12569e-9+1.16142e-9im         \n",
       "               7.96015-4.17107im   \n",
       "  0.000119956-4.56964e-5im         \n",
       "   4.01254e-7-9.29358e-7im         \n",
       "              0.606195-1.559im     \n",
       " -0.000247977+1.63482e-5im         \n",
       "              -5.24601+2.62576im   \n",
       "                1.0001+0.00963894im\n",
       "              -2.29763-0.308523im  \n",
       "  3.31307e-11+1.47658e-12im        \n",
       "  -4.09811e-5+8.07347e-5im         \n",
       "              0.130963-0.340593im  \n",
       "                      ⋮            \n",
       "              -301.893+224.173im   \n",
       "              -11016.7-62007.8im   \n",
       "              -40262.6-46273.9im   \n",
       "              -93077.4+58847.4im   \n",
       "              -4866.28+1561.76im   \n",
       "               952.458-871.216im   \n",
       "               375.195-2661.45im   \n",
       "               0.36865-0.673181im  \n",
       "            -0.0158491+0.0143212im \n",
       "  -8.14181e-5-9.88882e-6im         \n",
       "              -29004.3+32814.9im   \n",
       "             2.96419e5-142.245im   "
      ]
     },
     "execution_count": 5,
     "metadata": {},
     "output_type": "execute_result"
    }
   ],
   "source": [
    "w = expv(1, A, v, m=30, tol=1e-5)\n",
    "@time w = expv(1, A, v, m=30, tol=1e-5)\n",
    "@time w = expv(1, A, v, m=30, tol=1e-5)"
   ]
  },
  {
   "cell_type": "markdown",
   "metadata": {},
   "source": [
    "Now we use the method for hermitian complex matrices:"
   ]
  },
  {
   "cell_type": "code",
   "execution_count": 6,
   "metadata": {
    "collapsed": false
   },
   "outputs": [
    {
     "name": "stdout",
     "output_type": "stream",
     "text": [
      "  0.016030 seconds (1.14 k allocations: 10.419 MB)\n",
      "  0.017533 seconds (1.14 k allocations: 10.419 MB, 10.36% gc time)\n"
     ]
    },
    {
     "data": {
      "text/plain": [
       "5300-element Array{Complex{Float64},1}:\n",
       "             1.20316e6+142.245im   \n",
       "  -1.12569e-9+1.16142e-9im         \n",
       "               7.96015-4.17107im   \n",
       "  0.000119956-4.56964e-5im         \n",
       "   4.01254e-7-9.29358e-7im         \n",
       "              0.606195-1.559im     \n",
       " -0.000247977+1.63482e-5im         \n",
       "              -5.24601+2.62576im   \n",
       "                1.0001+0.00963894im\n",
       "              -2.29763-0.308523im  \n",
       "  3.31307e-11+1.47658e-12im        \n",
       "  -4.09811e-5+8.07347e-5im         \n",
       "              0.130963-0.340593im  \n",
       "                      ⋮            \n",
       "              -301.893+224.173im   \n",
       "              -11016.7-62007.8im   \n",
       "              -40262.6-46273.9im   \n",
       "              -93077.4+58847.4im   \n",
       "              -4866.28+1561.76im   \n",
       "               952.458-871.216im   \n",
       "               375.195-2661.45im   \n",
       "               0.36865-0.673181im  \n",
       "            -0.0158491+0.0143212im \n",
       "  -8.14181e-5-9.88882e-6im         \n",
       "              -29004.3+32814.9im   \n",
       "             2.96419e5-142.245im   "
      ]
     },
     "execution_count": 6,
     "metadata": {},
     "output_type": "execute_result"
    }
   ],
   "source": [
    "w = expv(1, A, v, m=30, tol=1e-5, hermitian=true)\n",
    "@time w = expv(1, A, v, m=30, tol=1e-5, hermitian=true)\n",
    "@time w = expv(1, A, v, m=30, tol=1e-5, hermitian=true)"
   ]
  },
  {
   "cell_type": "markdown",
   "metadata": {},
   "source": [
    "## Example 6.3"
   ]
  },
  {
   "cell_type": "code",
   "execution_count": null,
   "metadata": {
    "collapsed": true
   },
   "outputs": [],
   "source": []
  }
 ],
 "metadata": {
  "kernelspec": {
   "display_name": "Julia 0.4.5",
   "language": "julia",
   "name": "julia-0.4"
  },
  "language_info": {
   "file_extension": ".jl",
   "mimetype": "application/julia",
   "name": "julia",
   "version": "0.4.5"
  }
 },
 "nbformat": 4,
 "nbformat_minor": 0
}
