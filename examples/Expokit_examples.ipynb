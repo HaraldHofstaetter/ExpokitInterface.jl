{
 "cells": [
  {
   "cell_type": "markdown",
   "metadata": {},
   "source": [
    "## Introduction"
   ]
  },
  {
   "cell_type": "markdown",
   "metadata": {},
   "source": [
    "We reconsider examples 6.2, 6.3, and 6.4 from \n",
    "\n",
    ">R.B. Sidje, [Expokit: A software package for computing matrix exponentials](http://www.maths.uq.edu.au/expokit/paper.pdf), ACM Trans. Math. Softw., 24(1):130-156, 1998. \n",
    "\n",
    "For these examples the Julia package [HarwellRutherfordBoeing.jl](https://github.com/JuliaSparse/HarwellRutherfordBoeing.jl) has to be\n",
    "installed:"
   ]
  },
  {
   "cell_type": "code",
   "execution_count": 1,
   "metadata": {
    "collapsed": false
   },
   "outputs": [
    {
     "name": "stderr",
     "output_type": "stream",
     "text": [
      "INFO: Nothing to be done\n",
      "INFO: METADATA is out-of-date — you may not have the latest version of HarwellRutherfordBoeing\n",
      "INFO: Use `Pkg.update()` to get the latest versions of your packages\n"
     ]
    }
   ],
   "source": [
    "Pkg.add(\"HarwellRutherfordBoeing\")"
   ]
  },
  {
   "cell_type": "code",
   "execution_count": 2,
   "metadata": {
    "collapsed": false
   },
   "outputs": [],
   "source": [
    "using FExpokit\n",
    "using HarwellRutherfordBoeing"
   ]
  },
  {
   "cell_type": "markdown",
   "metadata": {},
   "source": [
    "## 6.2 A Hermitian example\n",
    "\n",
    "Construct Hermitian matrix with the same sparsity pattern as  the one stored in `data/bcspwr10`. Both real and imaginary parts are filled using uniform random numbers within the range [-5,+5]."
   ]
  },
  {
   "cell_type": "code",
   "execution_count": 3,
   "metadata": {
    "collapsed": false
   },
   "outputs": [
    {
     "data": {
      "text/plain": [
       "5300x5300 sparse matrix with 21842 Complex{Float64} entries:\n",
       "\t[1   ,    1]  =  0.526125+0.0im\n",
       "\t[1245,    1]  =  1.72932+1.50798im\n",
       "\t[2319,    1]  =  -1.47194+2.58726im\n",
       "\t[4939,    1]  =  -1.03393-3.0909im\n",
       "\t[2   ,    2]  =  -0.466645+0.0im\n",
       "\t[3036,    2]  =  -1.52515-0.129131im\n",
       "\t[3   ,    3]  =  1.9575+0.0im\n",
       "\t[2085,    3]  =  4.64679+1.86205im\n",
       "\t[4   ,    4]  =  1.35069+0.0im\n",
       "\t[238 ,    4]  =  0.471369-1.70934im\n",
       "\t⋮\n",
       "\t[1551, 5299]  =  4.90436+3.09811im\n",
       "\t[3187, 5299]  =  -1.24216-4.7655im\n",
       "\t[4246, 5299]  =  -0.461655+0.0819767im\n",
       "\t[5200, 5299]  =  0.541565-2.09791im\n",
       "\t[5299, 5299]  =  1.26584+0.0im\n",
       "\t[401 , 5300]  =  4.69269+4.11356im\n",
       "\t[638 , 5300]  =  -1.42454+4.9341im\n",
       "\t[2061, 5300]  =  3.68544-4.96339im\n",
       "\t[4506, 5300]  =  -2.11295+1.26271im\n",
       "\t[4898, 5300]  =  -2.8063+0.463949im\n",
       "\t[5300, 5300]  =  -3.51136+0.0im"
      ]
     },
     "execution_count": 3,
     "metadata": {},
     "output_type": "execute_result"
    }
   ],
   "source": [
    "A = HarwellBoeingMatrix("data/bcspwr10").matrix\n",
    "I,J,V = findnz(A)\n",
    "l = length(V)\n",
    "V = rand(l)*10.0-5.0 + 1im*(rand(l)*10.0-5.0)\n",
    "A = sparse(I,J,V)\n",
    "A = A+A'-spdiagm(real(diag(A)))"
   ]
  },
  {
   "cell_type": "markdown",
   "metadata": {},
   "source": [
    "Construct $v=(1,0,\\dots,0,1)^T$:"
   ]
  },
  {
   "cell_type": "code",
   "execution_count": 4,
   "metadata": {
    "collapsed": false
   },
   "outputs": [
    {
     "data": {
      "text/plain": [
       "5300-element Array{Float64,1}:\n",
       " 1.0\n",
       " 0.0\n",
       " 0.0\n",
       " 0.0\n",
       " 0.0\n",
       " 0.0\n",
       " 0.0\n",
       " 0.0\n",
       " 0.0\n",
       " 0.0\n",
       " 0.0\n",
       " 0.0\n",
       " 0.0\n",
       " ⋮  \n",
       " 0.0\n",
       " 0.0\n",
       " 0.0\n",
       " 0.0\n",
       " 0.0\n",
       " 0.0\n",
       " 0.0\n",
       " 0.0\n",
       " 0.0\n",
       " 0.0\n",
       " 0.0\n",
       " 1.0"
      ]
     },
     "execution_count": 4,
     "metadata": {},
     "output_type": "execute_result"
    }
   ],
   "source": [
    "v = zeros(A.n)\n",
    "v[1] = 1\n",
    "v[A.n] = 1\n",
    "v"
   ]
  },
  {
   "cell_type": "markdown",
   "metadata": {},
   "source": [
    "First, we use the method for general complex matrices (i.e., we don't utilize the fact that A is hermitian).\n",
    "We do the calculation twice, where only the second is timed, because for the first the function has to be compiled which takes additional time."
   ]
  },
  {
   "cell_type": "code",
   "execution_count": 5,
   "metadata": {
    "collapsed": false
   },
   "outputs": [
    {
     "name": "stdout",
     "output_type": "stream",
     "text": [
      "  0.023998 seconds (915 allocations: 7.943 MB, 21.82% gc time)\n",
      "  0.022534 seconds (765 allocations: 7.902 MB, 19.83% gc time)\n"
     ]
    },
    {
     "data": {
      "text/plain": [
       "5300-element Array{Complex{Float64},1}:\n",
       "              2.9699e5+52.479im     \n",
       " -7.29446e-11+5.17796e-11im         \n",
       "               1.20232-0.458929im   \n",
       "   2.56854e-7+1.06463e-5im          \n",
       "   7.07822e-5+8.22725e-5im          \n",
       "             0.0948549-0.416197im   \n",
       "   9.49809e-5+4.71529e-7im          \n",
       "               3.56044+3.32306im    \n",
       "              -0.32157-0.585409im   \n",
       "             0.0384908+0.0443348im  \n",
       "  4.52696e-12-3.10846e-12im         \n",
       "            3.49606e-5-0.000786032im\n",
       "            0.00548796+0.113512im   \n",
       "                      ⋮             \n",
       "                28.611-1.08109im    \n",
       "              -40054.2-2989.42im    \n",
       "               201.683+1167.35im    \n",
       "                2062.1+969.525im    \n",
       "               1517.21+120.491im    \n",
       "              -409.026+71.0672im    \n",
       "              -189.956-86.7358im    \n",
       "            -0.0956172+0.225698im   \n",
       "          -0.000658703-0.0024006im  \n",
       " -0.000346149-1.97564e-6im          \n",
       "               71.7169-6432.61im    \n",
       "             1.61354e5-52.479im     "
      ]
     },
     "execution_count": 5,
     "metadata": {},
     "output_type": "execute_result"
    }
   ],
   "source": [
    "w = expv(1, A, v, m=30, tol=1e-5)\n",
    "@time w = expv(1, A, v, m=30, tol=1e-5)\n",
    "@time w = expv(1, A, v, m=30, tol=1e-5)"
   ]
  },
  {
   "cell_type": "markdown",
   "metadata": {},
   "source": [
    "Now we use the method for hermitian complex matrices:"
   ]
  },
  {
   "cell_type": "code",
   "execution_count": 6,
   "metadata": {
    "collapsed": false
   },
   "outputs": [
    {
     "name": "stdout",
     "output_type": "stream",
     "text": [
      "  0.015464 seconds (765 allocations: 7.902 MB, 29.82% gc time)\n",
      "  0.011522 seconds (765 allocations: 7.902 MB)\n"
     ]
    },
    {
     "data": {
      "text/plain": [
       "5300-element Array{Complex{Float64},1}:\n",
       "              2.9699e5+52.479im     \n",
       " -7.29446e-11+5.17796e-11im         \n",
       "               1.20232-0.458929im   \n",
       "   2.56854e-7+1.06463e-5im          \n",
       "   7.07822e-5+8.22725e-5im          \n",
       "             0.0948549-0.416197im   \n",
       "   9.49809e-5+4.71529e-7im          \n",
       "               3.56044+3.32306im    \n",
       "              -0.32157-0.585409im   \n",
       "             0.0384908+0.0443348im  \n",
       "  4.52696e-12-3.10846e-12im         \n",
       "            3.49606e-5-0.000786032im\n",
       "            0.00548796+0.113512im   \n",
       "                      ⋮             \n",
       "                28.611-1.08109im    \n",
       "              -40054.2-2989.42im    \n",
       "               201.683+1167.35im    \n",
       "                2062.1+969.525im    \n",
       "               1517.21+120.491im    \n",
       "              -409.026+71.0672im    \n",
       "              -189.956-86.7358im    \n",
       "            -0.0956172+0.225698im   \n",
       "          -0.000658703-0.0024006im  \n",
       " -0.000346149-1.97564e-6im          \n",
       "               71.7169-6432.61im    \n",
       "             1.61354e5-52.479im     "
      ]
     },
     "execution_count": 6,
     "metadata": {},
     "output_type": "execute_result"
    }
   ],
   "source": [
    "w = expv(1, A, v, m=30, tol=1e-5, hermitian=true)\n",
    "@time w = expv(1, A, v, m=30, tol=1e-5, hermitian=true)\n",
    "@time w = expv(1, A, v, m=30, tol=1e-5, hermitian=true)"
   ]
  },
  {
   "cell_type": "markdown",
   "metadata": {},
   "source": [
    "## 6.3 A nonsymmetric example"
   ]
  },
  {
   "cell_type": "markdown",
   "metadata": {},
   "source": [
    "Note: Strangely, here HarwellBoeingMatrix gives a matrix which is wrong by a factor 10."
   ]
  },
  {
   "cell_type": "code",
   "execution_count": 7,
   "metadata": {
    "collapsed": false
   },
   "outputs": [
    {
     "data": {
      "text/plain": [
       "2529x2529 sparse matrix with 90158 Float64 entries:\n",
       "\t[1   ,    1]  =  -1.0\n",
       "\t[1163,    1]  =  0.0154922\n",
       "\t[2301,    1]  =  0.0107542\n",
       "\t[2302,    1]  =  -2.472\n",
       "\t[2   ,    2]  =  -1.0\n",
       "\t[1163,    2]  =  0.0614433\n",
       "\t[2301,    2]  =  0.0426521\n",
       "\t[2303,    2]  =  -2.732\n",
       "\t[3   ,    3]  =  -1.0\n",
       "\t[1163,    3]  =  0.0149174\n",
       "\t⋮\n",
       "\t[1158, 2521]  =  -1.0\n",
       "\t[1159, 2522]  =  -1.0\n",
       "\t[1160, 2523]  =  -1.0\n",
       "\t[1161, 2524]  =  -1.0\n",
       "\t[1165, 2525]  =  1.0\n",
       "\t[2301, 2525]  =  -0.694169\n",
       "\t[1163, 2526]  =  -1.0\n",
       "\t[1165, 2526]  =  -1.0\n",
       "\t[2183, 2527]  =  -1.0\n",
       "\t[2184, 2528]  =  -1.0\n",
       "\t[2185, 2529]  =  -1.0"
      ]
     },
     "execution_count": 7,
     "metadata": {},
     "output_type": "execute_result"
    }
   ],
   "source": [
    "A = 10*HarwellBoeingMatrix(\"data/orani678\").matrix"
   ]
  },
  {
   "cell_type": "code",
   "execution_count": 8,
   "metadata": {
    "collapsed": false
   },
   "outputs": [
    {
     "data": {
      "text/plain": [
       "2529-element Array{Float64,1}:\n",
       " 1.0\n",
       " 1.0\n",
       " 1.0\n",
       " 1.0\n",
       " 1.0\n",
       " 1.0\n",
       " 1.0\n",
       " 1.0\n",
       " 1.0\n",
       " 1.0\n",
       " 1.0\n",
       " 1.0\n",
       " 1.0\n",
       " ⋮  \n",
       " 1.0\n",
       " 1.0\n",
       " 1.0\n",
       " 1.0\n",
       " 1.0\n",
       " 1.0\n",
       " 1.0\n",
       " 1.0\n",
       " 1.0\n",
       " 1.0\n",
       " 1.0\n",
       " 1.0"
      ]
     },
     "execution_count": 8,
     "metadata": {},
     "output_type": "execute_result"
    }
   ],
   "source": [
    "v = ones(A.n)"
   ]
  },
  {
   "cell_type": "code",
   "execution_count": 9,
   "metadata": {
    "collapsed": false
   },
   "outputs": [
    {
     "name": "stdout",
     "output_type": "stream",
     "text": [
      "  0.015774 seconds (1.14 k allocations: 2.520 MB)\n",
      "  0.015832 seconds (1.14 k allocations: 2.520 MB)\n"
     ]
    },
    {
     "data": {
      "text/plain": [
       "2529-element Array{Float64,1}:\n",
       "   6464.4 \n",
       "   4828.89\n",
       "   5450.58\n",
       "   5592.73\n",
       "   4575.68\n",
       "   4199.78\n",
       "   5087.48\n",
       "   3746.97\n",
       "   4678.12\n",
       "   3797.78\n",
       "   2523.76\n",
       "   3004.07\n",
       "   3272.65\n",
       "      ⋮   \n",
       "  -4725.02\n",
       "  -1859.59\n",
       " -12278.0 \n",
       " -12564.9 \n",
       " -11839.9 \n",
       " -11389.1 \n",
       "  -4658.96\n",
       "  -9936.95\n",
       "  -3235.12\n",
       "  -3232.0 \n",
       "   1778.82\n",
       "   2368.44"
      ]
     },
     "execution_count": 9,
     "metadata": {},
     "output_type": "execute_result"
    }
   ],
   "source": [
    "w = expv(10, A, v, m=30)\n",
    "@time w = expv(10, A, v, m=30)\n",
    "@time w = expv(10, A, v, m=30)"
   ]
  },
  {
   "cell_type": "markdown",
   "metadata": {},
   "source": [
    "## 6.4 A forward-backward example"
   ]
  },
  {
   "cell_type": "code",
   "execution_count": 10,
   "metadata": {
    "collapsed": false
   },
   "outputs": [
    {
     "data": {
      "text/plain": [
       "900x900 sparse matrix with 7744 Float64 entries:\n",
       "\t[1  ,   1]  =  8.0\n",
       "\t[2  ,   1]  =  -1.0\n",
       "\t[31 ,   1]  =  -1.0\n",
       "\t[32 ,   1]  =  -1.0\n",
       "\t[1  ,   2]  =  -1.0\n",
       "\t[2  ,   2]  =  8.0\n",
       "\t[3  ,   2]  =  -1.0\n",
       "\t[31 ,   2]  =  -1.0\n",
       "\t[32 ,   2]  =  -1.0\n",
       "\t[33 ,   2]  =  -1.0\n",
       "\t⋮\n",
       "\t[899, 898]  =  -1.0\n",
       "\t[868, 899]  =  -1.0\n",
       "\t[869, 899]  =  -1.0\n",
       "\t[870, 899]  =  -1.0\n",
       "\t[898, 899]  =  -1.0\n",
       "\t[899, 899]  =  8.0\n",
       "\t[900, 899]  =  -1.0\n",
       "\t[869, 900]  =  -1.0\n",
       "\t[870, 900]  =  -1.0\n",
       "\t[899, 900]  =  -1.0\n",
       "\t[900, 900]  =  8.0"
      ]
     },
     "execution_count": 10,
     "metadata": {},
     "output_type": "execute_result"
    }
   ],
   "source": [
    "A = HarwellBoeingMatrix(\"data/gr3030\").matrix\n",
    "A = A+A'-spdiagm(diag(A))"
   ]
  },
  {
   "cell_type": "code",
   "execution_count": 11,
   "metadata": {
    "collapsed": false
   },
   "outputs": [
    {
     "data": {
      "text/plain": [
       "900-element Array{Float64,1}:\n",
       " 1.0\n",
       " 1.0\n",
       " 1.0\n",
       " 1.0\n",
       " 1.0\n",
       " 1.0\n",
       " 1.0\n",
       " 1.0\n",
       " 1.0\n",
       " 1.0\n",
       " 1.0\n",
       " 1.0\n",
       " 1.0\n",
       " ⋮  \n",
       " 1.0\n",
       " 1.0\n",
       " 1.0\n",
       " 1.0\n",
       " 1.0\n",
       " 1.0\n",
       " 1.0\n",
       " 1.0\n",
       " 1.0\n",
       " 1.0\n",
       " 1.0\n",
       " 1.0"
      ]
     },
     "execution_count": 11,
     "metadata": {},
     "output_type": "execute_result"
    }
   ],
   "source": [
    "v = ones(A.n)"
   ]
  },
  {
   "cell_type": "code",
   "execution_count": 12,
   "metadata": {
    "collapsed": false
   },
   "outputs": [
    {
     "name": "stdout",
     "output_type": "stream",
     "text": [
      "  0.001277 seconds (699 allocations: 736.313 KB)\n",
      "  0.007030 seconds (699 allocations: 736.313 KB, 80.89% gc time)\n"
     ]
    },
    {
     "data": {
      "text/plain": [
       "900-element Array{Float64,1}:\n",
       " 3456.57   \n",
       "    7.34272\n",
       " 4094.73   \n",
       " 1275.04   \n",
       " 2939.02   \n",
       " 2130.16   \n",
       " 2471.78   \n",
       " 2345.0    \n",
       " 2387.04   \n",
       " 2374.45   \n",
       " 2377.89   \n",
       " 2377.03   \n",
       " 2377.23   \n",
       "    ⋮      \n",
       " 2377.03   \n",
       " 2377.89   \n",
       " 2374.45   \n",
       " 2387.04   \n",
       " 2345.0    \n",
       " 2471.78   \n",
       " 2130.16   \n",
       " 2939.02   \n",
       " 1275.04   \n",
       " 4094.73   \n",
       "    7.34272\n",
       " 3456.57   "
      ]
     },
     "execution_count": 12,
     "metadata": {},
     "output_type": "execute_result"
    }
   ],
   "source": [
    "w = expv(1, A, v, tol=1e-10, symmetric=true)\n",
    "@time w = expv(1, A, v, tol=1e-10, symmetric=true)\n",
    "@time w = expv(1, A, v, tol=1e-10, symmetric=true)"
   ]
  },
  {
   "cell_type": "code",
   "execution_count": 13,
   "metadata": {
    "collapsed": false
   },
   "outputs": [
    {
     "name": "stdout",
     "output_type": "stream",
     "text": [
      "  0.017532 seconds (700 allocations: 736.359 KB)\n"
     ]
    },
    {
     "data": {
      "text/plain": [
       "900-element Array{Float64,1}:\n",
       " 1.0\n",
       " 1.0\n",
       " 1.0\n",
       " 1.0\n",
       " 1.0\n",
       " 1.0\n",
       " 1.0\n",
       " 1.0\n",
       " 1.0\n",
       " 1.0\n",
       " 1.0\n",
       " 1.0\n",
       " 1.0\n",
       " ⋮  \n",
       " 1.0\n",
       " 1.0\n",
       " 1.0\n",
       " 1.0\n",
       " 1.0\n",
       " 1.0\n",
       " 1.0\n",
       " 1.0\n",
       " 1.0\n",
       " 1.0\n",
       " 1.0\n",
       " 1.0"
      ]
     },
     "execution_count": 13,
     "metadata": {},
     "output_type": "execute_result"
    }
   ],
   "source": [
    "@time z = expv(-1, A, w, tol=1e-10, symmetric=true)"
   ]
  },
  {
   "cell_type": "code",
   "execution_count": 14,
   "metadata": {
    "collapsed": false
   },
   "outputs": [
    {
     "data": {
      "text/plain": [
       "3.446132268436486e-13"
      ]
     },
     "execution_count": 14,
     "metadata": {},
     "output_type": "execute_result"
    }
   ],
   "source": [
    "norm(z-v, Inf)"
   ]
  }
 ],
 "metadata": {
  "kernelspec": {
   "display_name": "Julia 0.4.5",
   "language": "julia",
   "name": "julia-0.4"
  },
  "language_info": {
   "file_extension": ".jl",
   "mimetype": "application/julia",
   "name": "julia",
   "version": "0.4.5"
  }
 },
 "nbformat": 4,
 "nbformat_minor": 0
}
